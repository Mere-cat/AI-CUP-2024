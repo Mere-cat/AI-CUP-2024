{
 "cells": [
  {
   "cell_type": "markdown",
   "metadata": {},
   "source": [
    "# 整理成長表"
   ]
  },
  {
   "cell_type": "code",
   "execution_count": 30,
   "metadata": {},
   "outputs": [
    {
     "name": "stdout",
     "output_type": "stream",
     "text": [
      "2024-01-GlobalSolarRadiation-hour.csv\n",
      "2024-02-GlobalSolarRadiation-hour.csv\n",
      "2024-03-GlobalSolarRadiation-hour.csv\n"
     ]
    },
    {
     "name": "stderr",
     "output_type": "stream",
     "text": [
      "/var/folders/rr/xndz293x5zd33pfpcc2n9m600000gn/T/ipykernel_91249/3455330693.py:30: FutureWarning: Series.__getitem__ treating keys as positions is deprecated. In a future version, integer keys will always be treated as labels (consistent with DataFrame behavior). To access a value by position, use `ser.iloc[pos]`\n",
      "  output_row['GlobalRad'] = row[hour]\n",
      "/var/folders/rr/xndz293x5zd33pfpcc2n9m600000gn/T/ipykernel_91249/3455330693.py:30: FutureWarning: Series.__getitem__ treating keys as positions is deprecated. In a future version, integer keys will always be treated as labels (consistent with DataFrame behavior). To access a value by position, use `ser.iloc[pos]`\n",
      "  output_row['GlobalRad'] = row[hour]\n",
      "/var/folders/rr/xndz293x5zd33pfpcc2n9m600000gn/T/ipykernel_91249/3455330693.py:30: FutureWarning: Series.__getitem__ treating keys as positions is deprecated. In a future version, integer keys will always be treated as labels (consistent with DataFrame behavior). To access a value by position, use `ser.iloc[pos]`\n",
      "  output_row['GlobalRad'] = row[hour]\n"
     ]
    },
    {
     "name": "stdout",
     "output_type": "stream",
     "text": [
      "2024-04-GlobalSolarRadiation-hour.csv\n",
      "2024-05-GlobalSolarRadiation-hour.csv\n",
      "2024-06-GlobalSolarRadiation-hour.csv\n"
     ]
    },
    {
     "name": "stderr",
     "output_type": "stream",
     "text": [
      "/var/folders/rr/xndz293x5zd33pfpcc2n9m600000gn/T/ipykernel_91249/3455330693.py:30: FutureWarning: Series.__getitem__ treating keys as positions is deprecated. In a future version, integer keys will always be treated as labels (consistent with DataFrame behavior). To access a value by position, use `ser.iloc[pos]`\n",
      "  output_row['GlobalRad'] = row[hour]\n",
      "/var/folders/rr/xndz293x5zd33pfpcc2n9m600000gn/T/ipykernel_91249/3455330693.py:30: FutureWarning: Series.__getitem__ treating keys as positions is deprecated. In a future version, integer keys will always be treated as labels (consistent with DataFrame behavior). To access a value by position, use `ser.iloc[pos]`\n",
      "  output_row['GlobalRad'] = row[hour]\n",
      "/var/folders/rr/xndz293x5zd33pfpcc2n9m600000gn/T/ipykernel_91249/3455330693.py:30: FutureWarning: Series.__getitem__ treating keys as positions is deprecated. In a future version, integer keys will always be treated as labels (consistent with DataFrame behavior). To access a value by position, use `ser.iloc[pos]`\n",
      "  output_row['GlobalRad'] = row[hour]\n"
     ]
    },
    {
     "name": "stdout",
     "output_type": "stream",
     "text": [
      "2024-07-GlobalSolarRadiation-hour.csv\n",
      "2024-08-GlobalSolarRadiation-hour.csv\n"
     ]
    },
    {
     "name": "stderr",
     "output_type": "stream",
     "text": [
      "/var/folders/rr/xndz293x5zd33pfpcc2n9m600000gn/T/ipykernel_91249/3455330693.py:30: FutureWarning: Series.__getitem__ treating keys as positions is deprecated. In a future version, integer keys will always be treated as labels (consistent with DataFrame behavior). To access a value by position, use `ser.iloc[pos]`\n",
      "  output_row['GlobalRad'] = row[hour]\n",
      "/var/folders/rr/xndz293x5zd33pfpcc2n9m600000gn/T/ipykernel_91249/3455330693.py:30: FutureWarning: Series.__getitem__ treating keys as positions is deprecated. In a future version, integer keys will always be treated as labels (consistent with DataFrame behavior). To access a value by position, use `ser.iloc[pos]`\n",
      "  output_row['GlobalRad'] = row[hour]\n"
     ]
    },
    {
     "name": "stdout",
     "output_type": "stream",
     "text": [
      "2024-09-GlobalSolarRadiation-hour.csv\n",
      "2024-10-GlobalSolarRadiation-hour.csv\n"
     ]
    },
    {
     "name": "stderr",
     "output_type": "stream",
     "text": [
      "/var/folders/rr/xndz293x5zd33pfpcc2n9m600000gn/T/ipykernel_91249/3455330693.py:30: FutureWarning: Series.__getitem__ treating keys as positions is deprecated. In a future version, integer keys will always be treated as labels (consistent with DataFrame behavior). To access a value by position, use `ser.iloc[pos]`\n",
      "  output_row['GlobalRad'] = row[hour]\n",
      "/var/folders/rr/xndz293x5zd33pfpcc2n9m600000gn/T/ipykernel_91249/3455330693.py:30: FutureWarning: Series.__getitem__ treating keys as positions is deprecated. In a future version, integer keys will always be treated as labels (consistent with DataFrame behavior). To access a value by position, use `ser.iloc[pos]`\n",
      "  output_row['GlobalRad'] = row[hour]\n"
     ]
    },
    {
     "name": "stdout",
     "output_type": "stream",
     "text": [
      "2024-11-GlobalSolarRadiation-hour.csv\n"
     ]
    },
    {
     "name": "stderr",
     "output_type": "stream",
     "text": [
      "/var/folders/rr/xndz293x5zd33pfpcc2n9m600000gn/T/ipykernel_91249/3455330693.py:30: FutureWarning: Series.__getitem__ treating keys as positions is deprecated. In a future version, integer keys will always be treated as labels (consistent with DataFrame behavior). To access a value by position, use `ser.iloc[pos]`\n",
      "  output_row['GlobalRad'] = row[hour]\n"
     ]
    }
   ],
   "source": [
    "import os\n",
    "import pandas as pd\n",
    "import csv\n",
    "from scipy.interpolate import CubicSpline\n",
    "\n",
    "columns=['year', 'month', 'day', 'hour', 'GlobalRad']\n",
    "\n",
    "data_files = [f for f in os.listdir() if f.endswith('.csv')]\n",
    "data_files = sorted(data_files)\n",
    "output_file = pd.DataFrame()\n",
    "\n",
    "for month_file in data_files:\n",
    "    print(month_file)\n",
    "    df = pd.read_csv(month_file)\n",
    "    year = month_file.split('-')[0]\n",
    "    month = month_file.split('-')[1]\n",
    "\n",
    "    output_row = pd.DataFrame([{col: None for col in columns}])\n",
    "    for index, row in df.iterrows():\n",
    "        if(row['日/時'] == '總和'):\n",
    "            continue\n",
    "        day = row['日/時']\n",
    "\n",
    "        output_row['year'] = year\n",
    "        output_row['month'] = month\n",
    "        output_row['day'] = day\n",
    "\n",
    "        for hour in range(1, 25):\n",
    "            output_row['hour'] = hour\n",
    "            output_row['GlobalRad'] = row[hour]\n",
    "            output_file = pd.concat([output_file, output_row], ignore_index=False)\n",
    "\n",
    "    \n",
    "    hours = output_file['hour']\n",
    "    radiation = output_file['GlobalRad']\n",
    "    cs = CubicSpline(hours, radiation)\n",
    "\n",
    "    #fine_hours = np.arange(0, 24, 1/6)\n",
    "    fine_hours = range(10, 60, 10)\n",
    "    fine_radiation = cs(fine_hours)\n",
    "\n",
    "    inter_output_rows = []\n",
    "    for time, rad in zip(fine_hours, fine_radiation):\n",
    "        hour = int(time)  # 小時部分\n",
    "        minute = int((time - hour) * 60)  # 分鐘部分\n",
    "        inter_output_rows.append({\n",
    "            'year': year,\n",
    "            'month': month,\n",
    "            'day': day,\n",
    "            'hour': hour,\n",
    "            'minute': minute,\n",
    "            'GolbalRad': rad\n",
    "        })\n",
    "\n",
    "    # 建立結果 DataFrame\n",
    "    result_df = pd.DataFrame(inter_output_rows)\n",
    "\n",
    "    # 查看結果\n",
    "    print(result_df)\n",
    "\n",
    "#output_file.to_csv('test/test.csv')\n",
    "        \n"
   ]
  },
  {
   "cell_type": "markdown",
   "metadata": {},
   "source": [
    "## 插值"
   ]
  },
  {
   "cell_type": "code",
   "execution_count": 35,
   "metadata": {},
   "outputs": [
    {
     "name": "stdout",
     "output_type": "stream",
     "text": [
      "資料包含無效值，進行清理...\n",
      "0        1\n",
      "1        2\n",
      "2        3\n",
      "3        4\n",
      "4        5\n",
      "        ..\n",
      "7795    20\n",
      "7796    21\n",
      "7797    22\n",
      "7798    23\n",
      "7799    24\n",
      "Name: hour, Length: 7800, dtype: int64\n"
     ]
    },
    {
     "ename": "ValueError",
     "evalue": "`x` must be strictly increasing sequence.",
     "output_type": "error",
     "traceback": [
      "\u001b[0;31m---------------------------------------------------------------------------\u001b[0m",
      "\u001b[0;31mValueError\u001b[0m                                Traceback (most recent call last)",
      "Cell \u001b[0;32mIn[35], line 20\u001b[0m\n\u001b[1;32m     17\u001b[0m \u001b[38;5;28mprint\u001b[39m(hours)\n\u001b[1;32m     19\u001b[0m \u001b[38;5;66;03m# Step 2: 建立 Cubic Spline 插值模型\u001b[39;00m\n\u001b[0;32m---> 20\u001b[0m cs \u001b[38;5;241m=\u001b[39m \u001b[43mCubicSpline\u001b[49m\u001b[43m(\u001b[49m\u001b[43mhours\u001b[49m\u001b[43m,\u001b[49m\u001b[43m \u001b[49m\u001b[43mradiation\u001b[49m\u001b[43m)\u001b[49m\n\u001b[1;32m     22\u001b[0m \u001b[38;5;66;03m# Step 3: 建立每 10 分鐘的時間點 (0 到 23.9，間隔 1/6 小時)\u001b[39;00m\n\u001b[1;32m     23\u001b[0m fine_hours \u001b[38;5;241m=\u001b[39m np\u001b[38;5;241m.\u001b[39marange(\u001b[38;5;241m0\u001b[39m, \u001b[38;5;241m24\u001b[39m, \u001b[38;5;241m1\u001b[39m\u001b[38;5;241m/\u001b[39m\u001b[38;5;241m6\u001b[39m)  \u001b[38;5;66;03m# 每小時細分為 6 份\u001b[39;00m\n",
      "File \u001b[0;32m~/global_aicup/lib/python3.12/site-packages/scipy/interpolate/_cubic.py:751\u001b[0m, in \u001b[0;36mCubicSpline.__init__\u001b[0;34m(self, x, y, axis, bc_type, extrapolate)\u001b[0m\n\u001b[1;32m    750\u001b[0m \u001b[38;5;28;01mdef\u001b[39;00m \u001b[38;5;21m__init__\u001b[39m(\u001b[38;5;28mself\u001b[39m, x, y, axis\u001b[38;5;241m=\u001b[39m\u001b[38;5;241m0\u001b[39m, bc_type\u001b[38;5;241m=\u001b[39m\u001b[38;5;124m'\u001b[39m\u001b[38;5;124mnot-a-knot\u001b[39m\u001b[38;5;124m'\u001b[39m, extrapolate\u001b[38;5;241m=\u001b[39m\u001b[38;5;28;01mNone\u001b[39;00m):\n\u001b[0;32m--> 751\u001b[0m     x, dx, y, axis, _ \u001b[38;5;241m=\u001b[39m \u001b[43mprepare_input\u001b[49m\u001b[43m(\u001b[49m\u001b[43mx\u001b[49m\u001b[43m,\u001b[49m\u001b[43m \u001b[49m\u001b[43my\u001b[49m\u001b[43m,\u001b[49m\u001b[43m \u001b[49m\u001b[43maxis\u001b[49m\u001b[43m)\u001b[49m\n\u001b[1;32m    752\u001b[0m     n \u001b[38;5;241m=\u001b[39m \u001b[38;5;28mlen\u001b[39m(x)\n\u001b[1;32m    754\u001b[0m     bc, y \u001b[38;5;241m=\u001b[39m \u001b[38;5;28mself\u001b[39m\u001b[38;5;241m.\u001b[39m_validate_bc(bc_type, y, y\u001b[38;5;241m.\u001b[39mshape[\u001b[38;5;241m1\u001b[39m:], axis)\n",
      "File \u001b[0;32m~/global_aicup/lib/python3.12/site-packages/scipy/interpolate/_cubic.py:70\u001b[0m, in \u001b[0;36mprepare_input\u001b[0;34m(x, y, axis, dydx)\u001b[0m\n\u001b[1;32m     68\u001b[0m dx \u001b[38;5;241m=\u001b[39m np\u001b[38;5;241m.\u001b[39mdiff(x)\n\u001b[1;32m     69\u001b[0m \u001b[38;5;28;01mif\u001b[39;00m np\u001b[38;5;241m.\u001b[39many(dx \u001b[38;5;241m<\u001b[39m\u001b[38;5;241m=\u001b[39m \u001b[38;5;241m0\u001b[39m):\n\u001b[0;32m---> 70\u001b[0m     \u001b[38;5;28;01mraise\u001b[39;00m \u001b[38;5;167;01mValueError\u001b[39;00m(\u001b[38;5;124m\"\u001b[39m\u001b[38;5;124m`x` must be strictly increasing sequence.\u001b[39m\u001b[38;5;124m\"\u001b[39m)\n\u001b[1;32m     72\u001b[0m y \u001b[38;5;241m=\u001b[39m np\u001b[38;5;241m.\u001b[39mmoveaxis(y, axis, \u001b[38;5;241m0\u001b[39m)\n\u001b[1;32m     73\u001b[0m \u001b[38;5;28;01mif\u001b[39;00m dydx \u001b[38;5;129;01mis\u001b[39;00m \u001b[38;5;129;01mnot\u001b[39;00m \u001b[38;5;28;01mNone\u001b[39;00m:\n",
      "\u001b[0;31mValueError\u001b[0m: `x` must be strictly increasing sequence."
     ]
    }
   ],
   "source": [
    "import numpy as np\n",
    "\n",
    "df = pd.read_csv('test/test.csv')\n",
    "if df['GlobalRad'].isnull().any() or np.isinf(df['GlobalRad']).any():\n",
    "    print(\"資料包含無效值，進行清理...\")\n",
    "    df['GlobalRad'] = df['GlobalRad'].fillna(0).replace([np.inf, -np.inf], 0)\n",
    "\n",
    "\n",
    "# Step 1: 準備每小時的時間點和全輻射數據\n",
    "hours = df['hour']\n",
    "radiation = df['GlobalRad']\n",
    "year = df['year']\n",
    "month = df['month']\n",
    "day = df['day']\n",
    "\n",
    "# Step 2: 建立 Cubic Spline 插值模型\n",
    "cs = CubicSpline(hours, radiation)\n",
    "\n",
    "# Step 3: 建立每 10 分鐘的時間點 (0 到 23.9，間隔 1/6 小時)\n",
    "fine_hours = np.arange(0, 24, 1/6)  # 每小時細分為 6 份\n",
    "\n",
    "# Step 4: 使用 Cubic Spline 計算每 10 分鐘的輻射數據\n",
    "fine_radiation = cs(fine_hours)\n",
    "\n",
    "# Step 5: 生成新 DataFrame\n",
    "output_rows = []\n",
    "for time, rad in zip(fine_hours, fine_radiation):\n",
    "    hour = int(time)  # 小時部分\n",
    "    minute = int((time - hour) * 60)  # 分鐘部分\n",
    "    output_rows.append({\n",
    "        'year': year,\n",
    "        'month': month,\n",
    "        'day': day,\n",
    "        'hour': hour,\n",
    "        'minute': minute,\n",
    "        'GolbalRad': rad\n",
    "    })\n",
    "\n",
    "# 建立結果 DataFrame\n",
    "result_df = pd.DataFrame(output_rows)\n",
    "\n",
    "# 查看結果\n",
    "print(result_df)"
   ]
  },
  {
   "cell_type": "code",
   "execution_count": 40,
   "metadata": {},
   "outputs": [
    {
     "name": "stdout",
     "output_type": "stream",
     "text": [
      "資料包含無效值，進行清理...\n",
      "<pandas.core.groupby.generic.DataFrameGroupBy object at 0x105d61130>\n",
      "    year  month  day  hour                minute  GolbalRad\n",
      "0   2024      1    1     0  (10, 20, 30, 40, 50)   0.000210\n",
      "1   2024      1    1     0  (10, 20, 30, 40, 50)   0.000152\n",
      "2   2024      1    1     0  (10, 20, 30, 40, 50)   0.000104\n",
      "3   2024      1    1     0  (10, 20, 30, 40, 50)   0.000066\n",
      "4   2024      1    1     0  (10, 20, 30, 40, 50)   0.000036\n",
      "5   2024      1    1     0  (10, 20, 30, 40, 50)   0.000015\n",
      "6   2024      1    1     1  (10, 20, 30, 40, 50)   0.000000\n",
      "7   2024      1    1     1  (10, 20, 30, 40, 50)  -0.000009\n",
      "8   2024      1    1     1  (10, 20, 30, 40, 50)  -0.000013\n",
      "9   2024      1    1     1  (10, 20, 30, 40, 50)  -0.000013\n",
      "10  2024      1    1     1  (10, 20, 30, 40, 50)  -0.000010\n",
      "11  2024      1    1     1  (10, 20, 30, 40, 50)  -0.000006\n",
      "12  2024      1    1     2  (10, 20, 30, 40, 50)   0.000000\n",
      "13  2024      1    1     2  (10, 20, 30, 40, 50)   0.000006\n",
      "14  2024      1    1     2  (10, 20, 30, 40, 50)   0.000010\n",
      "15  2024      1    1     2  (10, 20, 30, 40, 50)   0.000013\n",
      "16  2024      1    1     2  (10, 20, 30, 40, 50)   0.000013\n",
      "17  2024      1    1     2  (10, 20, 30, 40, 50)   0.000009\n",
      "18  2024      1    1     3  (10, 20, 30, 40, 50)   0.000000\n",
      "19  2024      1    1     3  (10, 20, 30, 40, 50)  -0.000014\n"
     ]
    }
   ],
   "source": [
    "import pandas as pd\n",
    "import numpy as np\n",
    "from scipy.interpolate import CubicSpline\n",
    "\n",
    "df = pd.read_csv('test/test.csv')\n",
    "columns=['year', 'month', 'day', 'hour', 'minutes','GlobalRad']\n",
    "\n",
    "if df['GlobalRad'].isnull().any() or np.isinf(df['GlobalRad']).any():\n",
    "    df['GlobalRad'] = df['GlobalRad'].fillna(0).replace([np.inf, -np.inf], 0)\n",
    "\n",
    "output_row = pd.DataFrame([{col: None for col in columns}])\n",
    "\n",
    "for index, row in df.iterrows():\n",
    "    year = row['year']\n",
    "    month = row['month']\n",
    "    day = row['day']\n",
    "    hours = row['hours']\n",
    "    radiation = row['GlobalRad']\n",
    "\n",
    "    cs = CubicSpline(hours, radiation)\n",
    "    fine_hours = np.arange(0, 24, 1/6)\n",
    "    fine_radiation = cs(fine_hours)\n",
    "\n",
    "    for minutes in range(10,60,10):\n",
    "        minutes = minutes\n",
    "\n",
    "    \n",
    "        output_row = [year, month, day, hour, minutes, radiation]\n",
    "    "
   ]
  },
  {
   "cell_type": "code",
   "execution_count": 95,
   "metadata": {},
   "outputs": [
    {
     "name": "stdout",
     "output_type": "stream",
     "text": [
      "       year  month  day  hour  minute  GlobalRad\n",
      "0      2024      1    1     0       0        0.0\n",
      "1      2024      1    1     0      10        0.0\n",
      "2      2024      1    1     0      20        0.0\n",
      "3      2024      1    1     0      30        0.0\n",
      "4      2024      1    1     0      40        0.0\n",
      "...     ...    ...  ...   ...     ...        ...\n",
      "46795  2024     11   21    23      10        0.0\n",
      "46796  2024     11   21    23      20        0.0\n",
      "46797  2024     11   21    23      30        0.0\n",
      "46798  2024     11   21    23      40        0.0\n",
      "46799  2024     11   21    23      50        0.0\n",
      "\n",
      "[46800 rows x 6 columns]\n"
     ]
    }
   ],
   "source": [
    "import pandas as pd\n",
    "import numpy as np\n",
    "from scipy.interpolate import CubicSpline\n",
    "import math\n",
    "\n",
    "# 假設讀取資料\n",
    "df = pd.read_csv('test/test.csv')\n",
    "\n",
    "# 確保數據沒有無效值\n",
    "df['GlobalRad'] = df['GlobalRad'].fillna(0).replace([np.inf, -np.inf], 0)\n",
    "\n",
    "# 準備結果\n",
    "output_rows = []\n",
    "\n",
    "# 按日期 (year, month, day) 分組\n",
    "grouped = df.groupby(['year', 'month', 'day'])\n",
    "\n",
    "for (year, month, day), group in grouped:\n",
    "    # 取得每一天的時間 (hour) 和輻射值 (GlobalRad)\n",
    "    hours = group['hour']\n",
    "    radiation = group['GlobalRad']\n",
    "    \n",
    "    # 確保時間是遞增排序\n",
    "    if not hours.is_monotonic_increasing:\n",
    "        hours = hours.sort_values()\n",
    "        radiation = radiation.iloc[hours.index]\n",
    "\n",
    "    # Step 2: 使用 Cubic Spline 進行插值\n",
    "    cs = CubicSpline(hours, radiation)\n",
    "\n",
    "\n",
    "    fine_hours = np.arange(0, 24, 1/6)  # 每小時細分為 6 份\n",
    "    fine_radiation = np.interp(fine_hours, hours, radiation)\n",
    "\n",
    "    # Step 4: 組織插值後的結果\n",
    "    for time, rad in zip(fine_hours, fine_radiation):\n",
    "        hour = int(time)  # 時間的整數部分是小時\n",
    "        minute = math.ceil((time - hour)*60)  # 時間的小數部分轉換為分鐘\n",
    "        output_rows.append([year, month, day, hour, minute, rad])\n",
    "\n",
    "# 生成結果 DataFrame\n",
    "result_df = pd.DataFrame(output_rows, columns=['year', 'month', 'day', 'hour', 'minute', 'GlobalRad'])\n",
    "\n",
    "result_df.to_csv('test/test2.csv')\n",
    "# 查看結果\n",
    "print(result_df)"
   ]
  },
  {
   "cell_type": "code",
   "execution_count": 91,
   "metadata": {},
   "outputs": [
    {
     "data": {
      "text/plain": [
       "array([ 1.        ,  1.16666667,  1.33333333,  1.5       ,  1.66666667,\n",
       "        1.83333333,  2.        ,  2.16666667,  2.33333333,  2.5       ,\n",
       "        2.66666667,  2.83333333,  3.        ,  3.16666667,  3.33333333,\n",
       "        3.5       ,  3.66666667,  3.83333333,  4.        ,  4.16666667,\n",
       "        4.33333333,  4.5       ,  4.66666667,  4.83333333,  5.        ,\n",
       "        5.16666667,  5.33333333,  5.5       ,  5.66666667,  5.83333333,\n",
       "        6.        ,  6.16666667,  6.33333333,  6.5       ,  6.66666667,\n",
       "        6.83333333,  7.        ,  7.16666667,  7.33333333,  7.5       ,\n",
       "        7.66666667,  7.83333333,  8.        ,  8.16666667,  8.33333333,\n",
       "        8.5       ,  8.66666667,  8.83333333,  9.        ,  9.16666667,\n",
       "        9.33333333,  9.5       ,  9.66666667,  9.83333333, 10.        ,\n",
       "       10.16666667, 10.33333333, 10.5       , 10.66666667, 10.83333333,\n",
       "       11.        , 11.16666667, 11.33333333, 11.5       , 11.66666667,\n",
       "       11.83333333, 12.        , 12.16666667, 12.33333333, 12.5       ,\n",
       "       12.66666667, 12.83333333, 13.        , 13.16666667, 13.33333333,\n",
       "       13.5       , 13.66666667, 13.83333333, 14.        , 14.16666667,\n",
       "       14.33333333, 14.5       , 14.66666667, 14.83333333, 15.        ,\n",
       "       15.16666667, 15.33333333, 15.5       , 15.66666667, 15.83333333,\n",
       "       16.        , 16.16666667, 16.33333333, 16.5       , 16.66666667,\n",
       "       16.83333333, 17.        , 17.16666667, 17.33333333, 17.5       ,\n",
       "       17.66666667, 17.83333333, 18.        , 18.16666667, 18.33333333,\n",
       "       18.5       , 18.66666667, 18.83333333, 19.        , 19.16666667,\n",
       "       19.33333333, 19.5       , 19.66666667, 19.83333333, 20.        ,\n",
       "       20.16666667, 20.33333333, 20.5       , 20.66666667, 20.83333333,\n",
       "       21.        , 21.16666667, 21.33333333, 21.5       , 21.66666667,\n",
       "       21.83333333, 22.        , 22.16666667, 22.33333333, 22.5       ,\n",
       "       22.66666667, 22.83333333, 23.        , 23.16666667, 23.33333333,\n",
       "       23.5       , 23.66666667, 23.83333333])"
      ]
     },
     "execution_count": 91,
     "metadata": {},
     "output_type": "execute_result"
    }
   ],
   "source": [
    " np.arange(1, 24, 1/6)"
   ]
  },
  {
   "cell_type": "code",
   "execution_count": 73,
   "metadata": {},
   "outputs": [
    {
     "data": {
      "text/plain": [
       "array([ 0.        ,  0.16666667,  0.33333333,  0.5       ,  0.66666667,\n",
       "        0.83333333,  1.        ,  1.16666667,  1.33333333,  1.5       ,\n",
       "        1.66666667,  1.83333333,  2.        ,  2.16666667,  2.33333333,\n",
       "        2.5       ,  2.66666667,  2.83333333,  3.        ,  3.16666667,\n",
       "        3.33333333,  3.5       ,  3.66666667,  3.83333333,  4.        ,\n",
       "        4.16666667,  4.33333333,  4.5       ,  4.66666667,  4.83333333,\n",
       "        5.        ,  5.16666667,  5.33333333,  5.5       ,  5.66666667,\n",
       "        5.83333333,  6.        ,  6.16666667,  6.33333333,  6.5       ,\n",
       "        6.66666667,  6.83333333,  7.        ,  7.16666667,  7.33333333,\n",
       "        7.5       ,  7.66666667,  7.83333333,  8.        ,  8.16666667,\n",
       "        8.33333333,  8.5       ,  8.66666667,  8.83333333,  9.        ,\n",
       "        9.16666667,  9.33333333,  9.5       ,  9.66666667,  9.83333333,\n",
       "       10.        , 10.16666667, 10.33333333, 10.5       , 10.66666667,\n",
       "       10.83333333, 11.        , 11.16666667, 11.33333333, 11.5       ,\n",
       "       11.66666667, 11.83333333, 12.        , 12.16666667, 12.33333333,\n",
       "       12.5       , 12.66666667, 12.83333333, 13.        , 13.16666667,\n",
       "       13.33333333, 13.5       , 13.66666667, 13.83333333, 14.        ,\n",
       "       14.16666667, 14.33333333, 14.5       , 14.66666667, 14.83333333,\n",
       "       15.        , 15.16666667, 15.33333333, 15.5       , 15.66666667,\n",
       "       15.83333333, 16.        , 16.16666667, 16.33333333, 16.5       ,\n",
       "       16.66666667, 16.83333333, 17.        , 17.16666667, 17.33333333,\n",
       "       17.5       , 17.66666667, 17.83333333, 18.        , 18.16666667,\n",
       "       18.33333333, 18.5       , 18.66666667, 18.83333333, 19.        ,\n",
       "       19.16666667, 19.33333333, 19.5       , 19.66666667, 19.83333333,\n",
       "       20.        , 20.16666667, 20.33333333, 20.5       , 20.66666667,\n",
       "       20.83333333, 21.        , 21.16666667, 21.33333333, 21.5       ,\n",
       "       21.66666667, 21.83333333, 22.        , 22.16666667, 22.33333333,\n",
       "       22.5       , 22.66666667, 22.83333333, 23.        , 23.16666667,\n",
       "       23.33333333, 23.5       , 23.66666667, 23.83333333])"
      ]
     },
     "execution_count": 73,
     "metadata": {},
     "output_type": "execute_result"
    }
   ],
   "source": [
    " np.arange(0, 24, 1/6)"
   ]
  }
 ],
 "metadata": {
  "kernelspec": {
   "display_name": "global_aicup",
   "language": "python",
   "name": "python3"
  },
  "language_info": {
   "codemirror_mode": {
    "name": "ipython",
    "version": 3
   },
   "file_extension": ".py",
   "mimetype": "text/x-python",
   "name": "python",
   "nbconvert_exporter": "python",
   "pygments_lexer": "ipython3",
   "version": "3.12.5"
  }
 },
 "nbformat": 4,
 "nbformat_minor": 2
}

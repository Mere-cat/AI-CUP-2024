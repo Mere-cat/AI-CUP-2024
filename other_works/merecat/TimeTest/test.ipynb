{
 "cells": [
  {
   "cell_type": "markdown",
   "metadata": {},
   "source": [
    "# 基於時間的各站點模型"
   ]
  },
  {
   "cell_type": "code",
   "execution_count": 2,
   "metadata": {},
   "outputs": [],
   "source": [
    "import torch\n",
    "from torch.utils.data import Dataset\n",
    "from torch.utils.data import DataLoader\n",
    "from torch.utils.data import TensorDataset, DataLoader\n",
    "\n",
    "from sklearn.linear_model import LinearRegression\n",
    "from sklearn.ensemble import RandomForestRegressor\n",
    "from sklearn.metrics import mean_squared_error\n",
    "from sklearn.metrics import mean_absolute_error\n",
    "from sklearn.model_selection import train_test_split\n",
    "from sklearn.preprocessing import StandardScaler\n",
    "\n",
    "from xgboost import XGBRegressor\n",
    "\n",
    "import numpy as np\n",
    "import pandas as pd\n",
    "import matplotlib.pyplot as plt\n",
    "import os\n",
    "\n",
    "from tqdm import tqdm"
   ]
  },
  {
   "cell_type": "code",
   "execution_count": 3,
   "metadata": {},
   "outputs": [],
   "source": [
    "DATA_PATH = '../FinalData-v2'\n",
    "EPOCHS = 5"
   ]
  },
  {
   "cell_type": "code",
   "execution_count": 4,
   "metadata": {},
   "outputs": [],
   "source": [
    "TARGET_COL = 'Power'\n",
    "OUT_COL = '' #['DateTime'] #, 'Sunlight', 'sum_ele', 'sum_pos', 'high' , 'ele']\n",
    "\n",
    "class FeatDataloader(Dataset):\n",
    "    def __init__(self, filename):\n",
    "        self.data = pd.read_csv(filename)\n",
    "        self.data['DateTime'] = pd.to_datetime(self.data['DateTime'])\n",
    "        self.data = self.data[pd.notna(self.data[TARGET_COL])].drop(columns=[OUT_COL]).reset_index(drop=True).astype(float)\n",
    "\n",
    "        self.data_feat = self.data.drop(columns=[TARGET_COL]).values\n",
    "        self.data_label = self.data[TARGET_COL].values\n",
    "\n",
    "        self.predict_data = self.data[pd.isna(self.data[TARGET_COL])].drop(columns=[OUT_COL, TARGET_COL]).reset_index(drop=True)\n",
    "        \n",
    "    def __len__(self):\n",
    "        return len(self.X_train)\n",
    "\n",
    "    def __getitem__(self, idx):\n",
    "        X = self.data_feat[idx]\n",
    "        y = self.data_label[idx]\n",
    "\n",
    "        return torch.tensor(X, dtype=torch.float32), torch.tensor(y, dtype=torch.float32)"
   ]
  },
  {
   "cell_type": "code",
   "execution_count": null,
   "metadata": {},
   "outputs": [],
   "source": [
    "# DataLoader 測試\n",
    "# filepath = '../combine_data/FinalData/L12_Train_avg.csv'\n",
    "# dataset = FeatDataloader(filepath)\n",
    "\n",
    "# train_loader = DataLoader(\n",
    "#     TensorDataset(\n",
    "#         torch.tensor(dataset.X_train, dtype=torch.float32),\n",
    "#         torch.tensor(dataset.y_train, dtype=torch.float32),\n",
    "#     ),\n",
    "#     batch_size=32,\n",
    "#     shuffle=True,\n",
    "# )\n",
    "\n",
    "# test_loader = DataLoader(\n",
    "#     TensorDataset(\n",
    "#         torch.tensor(dataset.X_test, dtype=torch.float32),\n",
    "#         torch.tensor(dataset.y_test, dtype=torch.float32),\n",
    "#     ),\n",
    "#     batch_size=32,\n",
    "#     shuffle=False,\n",
    "# )\n",
    "\n",
    "# for batch_X, batch_y in train_loader:\n",
    "#     print(batch_X, batch_y)"
   ]
  }
 ],
 "metadata": {
  "kernelspec": {
   "display_name": "global_aicup",
   "language": "python",
   "name": "python3"
  },
  "language_info": {
   "codemirror_mode": {
    "name": "ipython",
    "version": 3
   },
   "file_extension": ".py",
   "mimetype": "text/x-python",
   "name": "python",
   "nbconvert_exporter": "python",
   "pygments_lexer": "ipython3",
   "version": "3.12.5"
  }
 },
 "nbformat": 4,
 "nbformat_minor": 2
}

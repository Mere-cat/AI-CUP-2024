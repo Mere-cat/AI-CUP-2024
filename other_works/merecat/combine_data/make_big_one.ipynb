{
 "cells": [
  {
   "cell_type": "code",
   "execution_count": 1,
   "metadata": {},
   "outputs": [
    {
     "name": "stdout",
     "output_type": "stream",
     "text": [
      "讀取檔案: FinalData-v2/L1_Train_avg.csv\n",
      "讀取檔案: FinalData-v2/L2_Train_avg.csv\n",
      "讀取檔案: FinalData-v2/L3_Train_avg.csv\n",
      "讀取檔案: FinalData-v2/L4_Train_avg.csv\n",
      "讀取檔案: FinalData-v2/L5_Train_avg.csv\n",
      "讀取檔案: FinalData-v2/L6_Train_avg.csv\n",
      "讀取檔案: FinalData-v2/L7_Train_avg.csv\n",
      "讀取檔案: FinalData-v2/L8_Train_avg.csv\n",
      "讀取檔案: FinalData-v2/L9_Train_avg.csv\n",
      "讀取檔案: FinalData-v2/L10_Train_avg.csv\n",
      "讀取檔案: FinalData-v2/L11_Train_avg.csv\n",
      "讀取檔案: FinalData-v2/L12_Train_avg.csv\n",
      "讀取檔案: FinalData-v2/L13_Train_avg.csv\n",
      "讀取檔案: FinalData-v2/L14_Train_avg.csv\n",
      "讀取檔案: FinalData-v2/L15_Train_avg.csv\n",
      "讀取檔案: FinalData-v2/L16_Train_avg.csv\n",
      "讀取檔案: FinalData-v2/L17_Train_avg.csv\n",
      "資料已合併完成並儲存為 merged_data.csv\n"
     ]
    }
   ],
   "source": [
    "import pandas as pd\n",
    "import os\n",
    "\n",
    "# 定義檔案名稱範圍\n",
    "file_range = range(1, 18)  # 從 L1 到 L17\n",
    "all_data = []\n",
    "\n",
    "# 逐一讀取每個檔案，並添加檔案數字作為新的欄位\n",
    "for i in file_range:\n",
    "    file_name = f\"FinalData-v2/L{i}_Train_avg.csv\"\n",
    "    print(f\"讀取檔案: {file_name}\")\n",
    "    if os.path.exists(file_name):  # 確保檔案存在\n",
    "        df = pd.read_csv(file_name)\n",
    "        df['Location'] = i  # 新增欄位\n",
    "        all_data.append(df)\n",
    "\n",
    "# 合併所有資料成一張表\n",
    "result = pd.concat(all_data, ignore_index=True)\n",
    "\n",
    "# 儲存成新的 CSV 檔案\n",
    "result.to_csv(\"big_one_data.csv\", index=False)\n",
    "print(\"資料已合併完成並儲存為 merged_data.csv\")"
   ]
  }
 ],
 "metadata": {
  "kernelspec": {
   "display_name": "global_aicup",
   "language": "python",
   "name": "python3"
  },
  "language_info": {
   "codemirror_mode": {
    "name": "ipython",
    "version": 3
   },
   "file_extension": ".py",
   "mimetype": "text/x-python",
   "name": "python",
   "nbconvert_exporter": "python",
   "pygments_lexer": "ipython3",
   "version": "3.12.5"
  }
 },
 "nbformat": 4,
 "nbformat_minor": 2
}

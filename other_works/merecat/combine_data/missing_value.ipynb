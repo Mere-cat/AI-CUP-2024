{
 "cells": [
  {
   "cell_type": "markdown",
   "metadata": {},
   "source": [
    "## 處理 Missing Value\n",
    "&, x, V, /, ...  都視為 nan\n",
    "\n",
    "T 視為 0.5 (如果有的話)"
   ]
  },
  {
   "cell_type": "code",
   "execution_count": 6,
   "metadata": {},
   "outputs": [
    {
     "name": "stdout",
     "output_type": "stream",
     "text": [
      "FinalData/L16_Train_avg.csv\n",
      "FinalData/L12_Train_avg.csv\n",
      "FinalData/L2_Train_avg.csv\n",
      "FinalData/L6_Train_avg.csv\n",
      "FinalData/L1_Train_avg.csv\n",
      "FinalData/L5_Train_avg.csv\n",
      "FinalData/L15_Train_avg.csv\n",
      "FinalData/L11_Train_avg.csv\n",
      "FinalData/L8_Train_avg.csv\n",
      "FinalData/L9_Train_avg.csv\n",
      "FinalData/L4_Train_avg.csv\n",
      "FinalData/L10_Train_avg.csv\n",
      "FinalData/L14_Train_avg.csv\n",
      "FinalData/L13_Train_avg.csv\n",
      "FinalData/L17_Train_avg.csv\n",
      "FinalData/L7_Train_avg.csv\n",
      "FinalData/L3_Train_avg.csv\n"
     ]
    }
   ],
   "source": [
    "import os\n",
    "import pandas as pd\n",
    "import numpy as np\n",
    "\n",
    "data_path = 'FinalData'\n",
    "\n",
    "for file in os.listdir(data_path):\n",
    "    if file.endswith('.csv'):\n",
    "        filepath = os.path.join(data_path, file)\n",
    "        print(filepath)\n",
    "        df = pd.read_csv(filepath)\n",
    "        \n",
    "        df['Precp'] = df['Precp'].replace(['&', 'x', 'V', '/', '...'], np.nan)\n",
    "        df['Precp'] = df['Precp'].replace('T', 0.3)\n",
    "\n",
    "        df.to_csv(os.path.join(data_path, file), index=False)\n"
   ]
  },
  {
   "cell_type": "code",
   "execution_count": null,
   "metadata": {},
   "outputs": [],
   "source": []
  }
 ],
 "metadata": {
  "kernelspec": {
   "display_name": "global_aicup",
   "language": "python",
   "name": "python3"
  },
  "language_info": {
   "codemirror_mode": {
    "name": "ipython",
    "version": 3
   },
   "file_extension": ".py",
   "mimetype": "text/x-python",
   "name": "python",
   "nbconvert_exporter": "python",
   "pygments_lexer": "ipython3",
   "version": "3.12.5"
  }
 },
 "nbformat": 4,
 "nbformat_minor": 2
}

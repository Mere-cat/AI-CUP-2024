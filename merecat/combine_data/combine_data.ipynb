{
 "cells": [
  {
   "cell_type": "markdown",
   "metadata": {},
   "source": [
    "# 將所有多收集到的資料合成一個大 csv\n",
    "原始欄位：\n",
    "* LocationCode\n",
    "* DateTime\n",
    "* WindSpeed(m/s)\n",
    "* Pressure(hpa)\n",
    "* Temperature(°C)\n",
    "* Humidity(%)\n",
    "* Sunlight(Lux)\n",
    "\n",
    "增加欄位：\n",
    "* [] GloblRad: 全天空日射量(MJ/㎡)\n",
    "* [] Precp: 降水量(mm)\n",
    "* [] SunTransitAlt: 太陽仰角\n",
    "* [] SunTransitTimez: 太陽過中天時間\n",
    "* [x] sum_ele:\n",
    "* [x] sum_pos:\n",
    "* [x] high: 由樓高和海拔估算的高度\n",
    "* [x] ele:\n",
    "* [x] Sunlight_pred: 預測出的日照量（若不大於upper，則維持原值）\n",
    "\n",
    "Target:\n",
    "* Power"
   ]
  },
  {
   "cell_type": "markdown",
   "metadata": {},
   "source": [
    "## Sunlight Pred"
   ]
  },
  {
   "cell_type": "code",
   "execution_count": 11,
   "metadata": {},
   "outputs": [],
   "source": [
    "import pandas as pd\n",
    "import numpy as np\n",
    "import os\n",
    "import csv\n",
    "\n",
    "sunlight_pred_path= os.path.join('..', 'sunlight_process', 'data')\n",
    "for location_file in os.listdir(sunlight_pred_path):\n",
    "    df1_path = os.path.join('TrainingData_avg', location_file)\n",
    "    df2_path = os.path.join(sunlight_pred_path, location_file)\n",
    "\n",
    "    df1 = pd.read_csv(df1_path)\n",
    "    df2 = pd.read_csv(df2_path)\n",
    "\n",
    "    pd.merge(df1, df2, on=[\"DateTime\"], how=\"left\")\n",
    "\n",
    "\n",
    "    # 按 \"DateTime\" 欄位進行左合併\n",
    "    merged_df = pd.merge(df1, df2[['DateTime', 'SunlightPred']], on=\"DateTime\", how=\"left\")\n",
    "\n",
    "    merged_df.to_csv(os.path.join('FinalData', location_file))\n"
   ]
  },
  {
   "cell_type": "code",
   "execution_count": null,
   "metadata": {},
   "outputs": [],
   "source": []
  }
 ],
 "metadata": {
  "kernelspec": {
   "display_name": "global_aicup",
   "language": "python",
   "name": "python3"
  },
  "language_info": {
   "codemirror_mode": {
    "name": "ipython",
    "version": 3
   },
   "file_extension": ".py",
   "mimetype": "text/x-python",
   "name": "python",
   "nbconvert_exporter": "python",
   "pygments_lexer": "ipython3",
   "version": "3.12.5"
  }
 },
 "nbformat": 4,
 "nbformat_minor": 2
}

{
 "cells": [
  {
   "cell_type": "markdown",
   "metadata": {},
   "source": [
    "# 將所有多收集到的資料合成一個大 csv\n",
    "原始欄位：\n",
    "* LocationCode\n",
    "* DateTime\n",
    "* WindSpeed(m/s)\n",
    "* Pressure(hpa)\n",
    "* Temperature(°C)\n",
    "* Humidity(%)\n",
    "* Sunlight(Lux)\n",
    "\n",
    "增加欄位：\n",
    "* [x] GlobalRad: 全天空日射量(MJ/㎡)\n",
    "* [x] Precp: 降水量(mm)\n",
    "* [] SunTransitAlt: 太陽仰角\n",
    "* [] SunTransitTimez: 太陽過中天時間\n",
    "* [x] sum_ele:\n",
    "* [x] sum_pos:\n",
    "* [x] high: 由樓高和海拔估算的高度\n",
    "* [x] ele:\n",
    "* [x] Sunlight_pred: 預測出的日照量（若不大於upper，則維持原值）\n",
    "\n",
    "Target:\n",
    "* Power"
   ]
  },
  {
   "cell_type": "markdown",
   "metadata": {},
   "source": [
    "## Sunlight Pred"
   ]
  },
  {
   "cell_type": "code",
   "execution_count": 44,
   "metadata": {},
   "outputs": [],
   "source": [
    "base_data_path = '../../MH_LI/data/TrainingData_fin'"
   ]
  },
  {
   "cell_type": "code",
   "execution_count": 45,
   "metadata": {},
   "outputs": [],
   "source": [
    "import pandas as pd\n",
    "import numpy as np\n",
    "import os\n",
    "import csv\n",
    "\n",
    "sunlight_pred_path= os.path.join('..', 'sunlight_process', 'data')\n",
    "for location_file in os.listdir(sunlight_pred_path):\n",
    "    data_file_name = location_file.replace('.csv', '_avg.csv')\n",
    "    data_path = os.path.join(base_data_path, data_file_name)\n",
    "\n",
    "    sunlight_path = os.path.join('../sunlight_process/data', location_file)\n",
    "\n",
    "    data_df = pd.read_csv(data_path)\n",
    "    sunlight_df = pd.read_csv(sunlight_path)\n",
    "\n",
    "    pd.merge(data_df, sunlight_df, on=[\"DateTime\"], how=\"left\")\n",
    "\n",
    "    merged_df = pd.merge(data_df, sunlight_df[['DateTime', 'SunlightPred']], on=\"DateTime\", how=\"left\")\n",
    "\n",
    "    location_file =location_file.replace('.csv', '_avg.csv')\n",
    "    merged_df.to_csv(os.path.join('FinalData', location_file), index=False)\n"
   ]
  },
  {
   "cell_type": "code",
   "execution_count": 46,
   "metadata": {},
   "outputs": [],
   "source": [
    "base_data_path = 'FinalData'"
   ]
  },
  {
   "cell_type": "markdown",
   "metadata": {},
   "source": [
    "## GlobalRad"
   ]
  },
  {
   "cell_type": "code",
   "execution_count": 47,
   "metadata": {},
   "outputs": [
    {
     "name": "stdout",
     "output_type": "stream",
     "text": [
      "Index(['Unnamed: 0', 'year', 'month', 'day', 'hour', 'minute', 'GlobalRad'], dtype='object')\n"
     ]
    }
   ],
   "source": [
    "rad_path= os.path.join('../../Dataset/stat_data_4/GlobalSolarRadiation/test/test2.csv')\n",
    "rad_df = pd.read_csv(rad_path)\n",
    "print(rad_df.columns)\n",
    "\n",
    "data_files = [f for f in os.listdir(base_data_path) if f.endswith('.csv')]\n",
    "\n",
    "for file in data_files:\n",
    "    data_path = os.path.join(base_data_path, file)\n",
    "    data_df = pd.read_csv(data_path)\n",
    "    rad_df = pd.read_csv(rad_path)\n",
    "\n",
    "    #print(rad_df.columns)\n",
    "\n",
    "    rad_df = rad_df[['month', 'day', 'hour', 'minute', 'GlobalRad']]\n",
    "\n",
    "\n",
    "\n",
    "    rad_df.rename(columns={'month': 'Month', 'day': 'Day', 'hour': 'Hour', 'minute': 'Minute'}, inplace=True)\n",
    "\n",
    "    merged_df = pd.merge(data_df, rad_df, on=['Month', 'Day', 'Hour', 'Minute'], how='left')\n",
    "\n",
    "    file_name = file.replace('.csv', '_avg.csv')\n",
    "    merged_df.to_csv(os.path.join('FinalData', file), index=False)"
   ]
  },
  {
   "cell_type": "markdown",
   "metadata": {},
   "source": [
    "## Precp"
   ]
  },
  {
   "cell_type": "code",
   "execution_count": 48,
   "metadata": {},
   "outputs": [
    {
     "name": "stdout",
     "output_type": "stream",
     "text": [
      "Index(['Unnamed: 0.1', 'Unnamed: 0', 'year', 'month', 'day', 'hour', 'Precp',\n",
      "       'minutes'],\n",
      "      dtype='object')\n"
     ]
    }
   ],
   "source": [
    "precp_path= os.path.join('../../Dataset/stat_data_4/Precipitation/test/test2.csv')\n",
    "precp_df = pd.read_csv(precp_path)\n",
    "print(precp_df.columns)\n",
    "\n",
    "data_files = [f for f in os.listdir(base_data_path) if f.endswith('.csv')]\n",
    "\n",
    "for file in data_files:\n",
    "    data_path = os.path.join(base_data_path, file)\n",
    "    data_df = pd.read_csv(data_path)\n",
    "    precp_df = pd.read_csv(precp_path)\n",
    "\n",
    "    #print(rad_df.columns)\n",
    "\n",
    "    precp_df = precp_df[['month', 'day', 'hour', 'minutes', 'Precp']]\n",
    "\n",
    "    precp_df.rename(columns={'month': 'Month', 'day': 'Day', 'hour': 'Hour', 'minutes': 'Minute'}, inplace=True)\n",
    "\n",
    "    merged_df = pd.merge(data_df, precp_df, on=['Month', 'Day', 'Hour', 'Minute'], how='left')\n",
    "\n",
    "    merged_df.to_csv(os.path.join('FinalData', file), index=False)"
   ]
  }
 ],
 "metadata": {
  "kernelspec": {
   "display_name": "global_aicup",
   "language": "python",
   "name": "python3"
  },
  "language_info": {
   "codemirror_mode": {
    "name": "ipython",
    "version": 3
   },
   "file_extension": ".py",
   "mimetype": "text/x-python",
   "name": "python",
   "nbconvert_exporter": "python",
   "pygments_lexer": "ipython3",
   "version": "3.12.5"
  }
 },
 "nbformat": 4,
 "nbformat_minor": 2
}
